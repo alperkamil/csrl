{
 "cells": [
  {
   "cell_type": "markdown",
   "metadata": {},
   "source": [
    "# Nursery Scenario"
   ]
  },
  {
   "cell_type": "code",
   "execution_count": 1,
   "metadata": {
    "execution": {
     "iopub.execute_input": "2021-03-22T20:32:25.748228Z",
     "iopub.status.busy": "2021-03-22T20:32:25.747605Z",
     "iopub.status.idle": "2021-03-22T20:32:31.935976Z",
     "shell.execute_reply": "2021-03-22T20:32:31.934881Z",
     "shell.execute_reply.started": "2021-03-22T20:32:25.748163Z"
    }
   },
   "outputs": [
    {
     "name": "stdout",
     "output_type": "stream",
     "text": [
      "Number of Omega-automaton states (including the trap state): 3\n"
     ]
    },
    {
     "data": {
      "text/plain": [
       "<csrl.oa.OmegaAutomaton at 0x7f19749eaf70>"
      ]
     },
     "metadata": {},
     "output_type": "display_data"
    },
    {
     "data": {
      "image/png": "[encoded data removed]",
      "text/plain": [
       "<Figure size 432x432 with 1 Axes>"
      ]
     },
     "metadata": {
      "needs_background": "light"
     },
     "output_type": "display_data"
    }
   ],
   "source": [
    "%matplotlib inline\n",
    "from csrl.mdp import GridMDP\n",
    "from csrl.oa import OmegaAutomaton\n",
    "from csrl import ControlSynthesis\n",
    "import numpy as np \n",
    "\n",
    "# LTL Specification\n",
    "ltl = 'GFb & FGc & (d | !d)'\n",
    "\n",
    "# Translate the LTL formula to an LDBA\n",
    "oa = OmegaAutomaton(ltl)\n",
    "print('Number of Omega-automaton states (including the trap state):',oa.shape[1])\n",
    "display(oa)\n",
    "\n",
    "# MDP Description\n",
    "shape = (5,6)\n",
    "# E: Empty, T: Trap, B: Obstacle\n",
    "structure = np.array([\n",
    "['E',  'E',  'E',  'E',  'E',  'E'],\n",
    "['E',  'E',  'E',  'B',  'E',  'E'],\n",
    "['E',  'E',  'T',  'T',  'E',  'E'],\n",
    "['E',  'E',  'E',  'E',  'E',  'E'],\n",
    "['E',  'E',  'T',  'T',  'E',  'E']\n",
    "])\n",
    "\n",
    "# Labels of the states\n",
    "label = np.array([\n",
    "[(),       (),       (),       ('d',),   ('c',),    ('c',)],\n",
    "[(),       (),       (),       (),       ('c',),    ('c',)],\n",
    "[(),       (),       (),       (),       ('c',),    ('b','c')],\n",
    "[(),       (),       (),       (),       ('c',),    ('c',)],\n",
    "[(),       (),       (),       (),       ('c',),    ('c',)]\n",
    "],dtype=np.object)\n",
    "# Colors of the labels\n",
    "lcmap={\n",
    "    'b':'turquoise',\n",
    "    'c':'gold',\n",
    "    'd':'lightcoral'\n",
    "}\n",
    "reward = np.zeros(shape)\n",
    "reward[0,5]=1\n",
    "grid_mdp = GridMDP(shape=shape,structure=structure,label=label,reward=reward,lcmap=lcmap,figsize=6,lexicographic=True)  # Use figsize=4 for smaller figures\n",
    "grid_mdp.plot()\n",
    "\n",
    "\n",
    "# Construct the product MDP\n",
    "csrl = ControlSynthesis(grid_mdp,oa,discountB=0.9)"
   ]
  },
  {
   "cell_type": "code",
   "execution_count": 3,
   "metadata": {
    "execution": {
     "iopub.execute_input": "2021-03-22T20:33:19.296492Z",
     "iopub.status.busy": "2021-03-22T20:33:19.296067Z",
     "iopub.status.idle": "2021-03-22T20:34:01.917549Z",
     "shell.execute_reply": "2021-03-22T20:34:01.916340Z",
     "shell.execute_reply.started": "2021-03-22T20:33:19.296449Z"
    },
    "scrolled": true
   },
   "outputs": [],
   "source": [
    "Q_psi,Q_phi,Q=csrl.q_learning(start=(0,0),T=2**10,K=2**17)"
   ]
  },
  {
   "cell_type": "code",
   "execution_count": 6,
   "metadata": {
    "execution": {
     "iopub.execute_input": "2021-03-22T20:34:20.503682Z",
     "iopub.status.busy": "2021-03-22T20:34:20.503055Z",
     "iopub.status.idle": "2021-03-22T20:34:20.832669Z",
     "shell.execute_reply": "2021-03-22T20:34:20.831866Z",
     "shell.execute_reply.started": "2021-03-22T20:34:20.503618Z"
    }
   },
   "outputs": [
    {
     "data": {
      "application/vnd.jupyter.widget-view+json": {
       "model_id": "9b24910adc07425aafb2fc6730cbaf68",
       "version_major": 2,
       "version_minor": 0
      },
      "text/plain": [
       "interactive(children=(IntSlider(value=0, description='i', max=2), IntSlider(value=0, description='q', max=2), …"
      ]
     },
     "metadata": {},
     "output_type": "display_data"
    }
   ],
   "source": [
    "from itertools import product\n",
    "tau=0.05\n",
    "\n",
    "value_psi=np.max(Q_psi,axis=4)\n",
    "Q_phi_ = np.copy(Q_phi)\n",
    "for state in product(range(Q.shape[0]),range(Q.shape[1]),range(Q.shape[2]),range(Q.shape[3])):\n",
    "    for action in range(Q.shape[4]):\n",
    "        if Q_psi[state][action] < value_psi[state]-tau:\n",
    "            Q_phi_[state][action] = -1\n",
    "    \n",
    "value_phi=np.max(Q_phi_,axis=4) \n",
    "Q_ = np.copy(Q)\n",
    "for state in product(range(Q.shape[0]),range(Q.shape[1]),range(Q.shape[2]),range(Q.shape[3])):\n",
    "    for action in range(Q.shape[4]):\n",
    "        if Q_phi_[state][action] < value_phi[state]-tau:\n",
    "            Q_[state][action] = -1\n",
    "            \n",
    "value=np.max(Q_,axis=4)\n",
    "policy=np.argmax(Q_,axis=4)\n",
    "# csrl.plot(value,policy,save='lexicographic_policy.pdf')\n",
    "csrl.plot(value,policy)"
   ]
  },
  {
   "cell_type": "code",
   "execution_count": 50,
   "metadata": {
    "execution": {
     "iopub.execute_input": "2021-03-22T20:52:45.083417Z",
     "iopub.status.busy": "2021-03-22T20:52:45.083040Z",
     "iopub.status.idle": "2021-03-22T20:55:12.590496Z",
     "shell.execute_reply": "2021-03-22T20:55:12.589604Z",
     "shell.execute_reply.started": "2021-03-22T20:52:45.083379Z"
    }
   },
   "outputs": [
    {
     "name": "stdout",
     "output_type": "stream",
     "text": [
      "87.84326104311369\n"
     ]
    }
   ],
   "source": [
    "policy_ = policy[0,1]\n",
    "\n",
    "K=2**14\n",
    "T=2**10\n",
    "\n",
    "R = 0\n",
    "state=(0,5)\n",
    "for k in range(K):\n",
    "    for t in range(T):\n",
    "        if state==(0,5):\n",
    "            R += 0.99**t\n",
    "        states, probs = grid_mdp.transition_probs[state][policy_[state]]\n",
    "        state = states[np.random.choice(len(states),p=probs)]\n",
    "R = R/K\n",
    "print(R)"
   ]
  },
  {
   "cell_type": "code",
   "execution_count": 51,
   "metadata": {
    "execution": {
     "iopub.execute_input": "2021-03-22T20:55:12.592058Z",
     "iopub.status.busy": "2021-03-22T20:55:12.591876Z",
     "iopub.status.idle": "2021-03-22T20:57:51.810474Z",
     "shell.execute_reply": "2021-03-22T20:57:51.809680Z",
     "shell.execute_reply.started": "2021-03-22T20:55:12.592037Z"
    }
   },
   "outputs": [
    {
     "name": "stdout",
     "output_type": "stream",
     "text": [
      "85.08266413330061\n"
     ]
    }
   ],
   "source": [
    "R = 0\n",
    "state=(0,5)\n",
    "for k in range(K):\n",
    "    for t in range(T):\n",
    "        if state==(0,5):\n",
    "            R += 0.99**t\n",
    "        if state not in [(0,4),(2,4),(3,4),(4,4)] and np.random.random() < 0.05:\n",
    "            a = np.random.randint(4)\n",
    "        else:\n",
    "            a = policy_[state]\n",
    "        states, probs = grid_mdp.transition_probs[state][a]\n",
    "        state = states[np.random.choice(len(states),p=probs)]\n",
    "R = R/K\n",
    "print(R)"
   ]
  },
  {
   "cell_type": "code",
   "execution_count": 52,
   "metadata": {
    "execution": {
     "iopub.execute_input": "2021-03-22T20:57:51.812118Z",
     "iopub.status.busy": "2021-03-22T20:57:51.811934Z",
     "iopub.status.idle": "2021-03-22T20:58:11.409680Z",
     "shell.execute_reply": "2021-03-22T20:58:11.409022Z",
     "shell.execute_reply.started": "2021-03-22T20:57:51.812097Z"
    }
   },
   "outputs": [
    {
     "name": "stdout",
     "output_type": "stream",
     "text": [
      "0.0018634796142578125\n"
     ]
    }
   ],
   "source": [
    "state=(0,5)\n",
    "T=2**24\n",
    "count=0\n",
    "for t in range(T):\n",
    "    if state==(2,5):\n",
    "        count += 1\n",
    "    if state not in [(0,4),(2,4),(3,4),(4,4)] and np.random.random() < 0.05:\n",
    "        a = np.random.randint(4)\n",
    "    else:\n",
    "        a = policy_[state]\n",
    "    states, probs = grid_mdp.transition_probs[state][a]\n",
    "    state = states[np.random.choice(len(states),p=probs)]\n",
    "f = count/T\n",
    "print(1/f)"
   ]
  }
 ],
 "metadata": {
  "kernelspec": {
   "display_name": "Python (myenv)",
   "language": "python",
   "name": "myenv"
  },
  "language_info": {
   "codemirror_mode": {
    "name": "ipython",
    "version": 3
   },
   "file_extension": ".py",
   "mimetype": "text/x-python",
   "name": "python",
   "nbconvert_exporter": "python",
   "pygments_lexer": "ipython3",
   "version": "3.8.5"
  },
  "widgets": {
   "application/vnd.jupyter.widget-state+json": {
    "state": {},
    "version_major": 2,
    "version_minor": 0
   }
  }
 },
 "nbformat": 4,
 "nbformat_minor": 4
}
